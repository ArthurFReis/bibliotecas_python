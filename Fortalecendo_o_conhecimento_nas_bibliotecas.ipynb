{
  "nbformat": 4,
  "nbformat_minor": 0,
  "metadata": {
    "colab": {
      "private_outputs": true,
      "provenance": [],
      "authorship_tag": "ABX9TyMs+l4Bf2LHVTg6YjZhmvYt",
      "include_colab_link": true
    },
    "kernelspec": {
      "name": "python3",
      "display_name": "Python 3"
    },
    "language_info": {
      "name": "python"
    }
  },
  "cells": [
    {
      "cell_type": "markdown",
      "metadata": {
        "id": "view-in-github",
        "colab_type": "text"
      },
      "source": [
        "<a href=\"https://colab.research.google.com/github/ArthurFReis/bibliotecas_python/blob/main/Fortalecendo_o_conhecimento_nas_bibliotecas.ipynb\" target=\"_parent\"><img src=\"https://colab.research.google.com/assets/colab-badge.svg\" alt=\"Open In Colab\"/></a>"
      ]
    },
    {
      "cell_type": "code",
      "execution_count": null,
      "metadata": {
        "id": "Hwx27MD2VigJ"
      },
      "outputs": [],
      "source": [
        "import numpy as np\n",
        "import scipy as sc\n",
        "import pandas as pd\n",
        "import matplotlib.pyplot as plt"
      ]
    },
    {
      "cell_type": "code",
      "source": [
        "dados = {'nome': ['Arthur', 'Eliana', 'Fernanda', 'Marcus'], 'idade': [38,65,36,66], 'sexo': ['M', 'F', 'F', 'M']}"
      ],
      "metadata": {
        "id": "cC2_KYpfV6RZ"
      },
      "execution_count": null,
      "outputs": []
    },
    {
      "cell_type": "code",
      "source": [
        "df = pd.DataFrame(dados)\n",
        "df"
      ],
      "metadata": {
        "id": "7y_uFJIXWwjc"
      },
      "execution_count": null,
      "outputs": []
    },
    {
      "cell_type": "code",
      "source": [
        "df1 = pd.Series(df['nome'])\n",
        "df1"
      ],
      "metadata": {
        "id": "uHhX8ZB6W75_"
      },
      "execution_count": null,
      "outputs": []
    },
    {
      "cell_type": "code",
      "source": [
        "dados2 = np.array([1,2,3,4,5,6,7,8,9])\n",
        "dados3 = np.array([9,8,7,6,5,4,3,2,1])\n",
        "dados4 = dados2 + dados3\n",
        "dados4"
      ],
      "metadata": {
        "id": "WAzufzqeXMWl"
      },
      "execution_count": null,
      "outputs": []
    },
    {
      "cell_type": "code",
      "source": [
        "dados5 = np.array([3,1,4,2])\n",
        "dados5 = np.sort(dados5)\n",
        "dados5"
      ],
      "metadata": {
        "id": "ghdER7H5Xrm0"
      },
      "execution_count": null,
      "outputs": []
    },
    {
      "cell_type": "code",
      "source": [
        "coluna = df.loc[:,'nome']\n",
        "coluna"
      ],
      "metadata": {
        "id": "3xKhv7epY_50"
      },
      "execution_count": null,
      "outputs": []
    },
    {
      "cell_type": "code",
      "source": [
        "linha = df.loc[:0]\n",
        "linha"
      ],
      "metadata": {
        "id": "WL5jfchXa93G"
      },
      "execution_count": null,
      "outputs": []
    },
    {
      "cell_type": "code",
      "source": [
        "colunas = df[df.columns[0:2]]\n",
        "colunas"
      ],
      "metadata": {
        "id": "4D6v9UwJbXvo"
      },
      "execution_count": null,
      "outputs": []
    },
    {
      "cell_type": "code",
      "source": [
        "colunas2 = df.loc[0:3, ['nome', 'sexo']]\n",
        "colunas2"
      ],
      "metadata": {
        "id": "iHfI8GKrbt9v"
      },
      "execution_count": null,
      "outputs": []
    },
    {
      "cell_type": "code",
      "source": [
        "linhas = df.iloc[2,1]\n",
        "linhas"
      ],
      "metadata": {
        "id": "DubLTD8xdsnP"
      },
      "execution_count": null,
      "outputs": []
    },
    {
      "cell_type": "code",
      "source": [
        "linhas2 = df.iloc[3,2]\n",
        "linhas2"
      ],
      "metadata": {
        "id": "D7zDfva2e3-m"
      },
      "execution_count": null,
      "outputs": []
    },
    {
      "cell_type": "code",
      "source": [
        "linhas3 = df.iloc[0]\n",
        "linhas3"
      ],
      "metadata": {
        "id": "cwWvPg0KfDPR"
      },
      "execution_count": null,
      "outputs": []
    },
    {
      "cell_type": "code",
      "source": [
        "histograma = df.hist()"
      ],
      "metadata": {
        "id": "z2gegnbtfu3s"
      },
      "execution_count": null,
      "outputs": []
    },
    {
      "cell_type": "code",
      "source": [
        "xpoints = np.array([1, 6])\n",
        "ypoints = np.array([50, 250])\n",
        "plt.plot(xpoints,ypoints)\n",
        "plt.show()"
      ],
      "metadata": {
        "id": "J03EmdUfjM6j"
      },
      "execution_count": null,
      "outputs": []
    },
    {
      "cell_type": "code",
      "source": [
        "plt.scatter(dados2, dados3)\n",
        "plt.show()"
      ],
      "metadata": {
        "id": "4MY0eEQ8jcfr"
      },
      "execution_count": null,
      "outputs": []
    },
    {
      "cell_type": "code",
      "source": [],
      "metadata": {
        "id": "f0vs8RpC34Gi"
      },
      "execution_count": null,
      "outputs": []
    }
  ]
}